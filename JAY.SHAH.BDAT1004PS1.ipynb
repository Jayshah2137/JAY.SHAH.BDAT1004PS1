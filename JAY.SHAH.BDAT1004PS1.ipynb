{
 "cells": [
  {
   "cell_type": "markdown",
   "id": "6890c65e",
   "metadata": {},
   "source": [
    "# Q1. What data type is each of the following (evaluate where necessary)?"
   ]
  },
  {
   "cell_type": "markdown",
   "id": "4d985470",
   "metadata": {},
   "source": [
    "5 - integer\n",
    "\n",
    "5.0 - float\n",
    "\n",
    "5 > 1 - boolean\n",
    "\n",
    "'5' - character\n",
    "\n",
    "5 * 2 - integer\n",
    "\n",
    "'5' * 2 - string\n",
    "\n",
    "'5' + '2' - string\n",
    "\n",
    "5 / 2 - float\n",
    "\n",
    "5 % 2 - integer\n",
    "\n",
    "{5, 2, 1} - set\n",
    "\n",
    "5 == 3 - boolean\n",
    "\n",
    "Pi (the number) - double float\n"
   ]
  },
  {
   "cell_type": "markdown",
   "id": "d15407ce",
   "metadata": {},
   "source": [
    "# Q2. Write (and evaluate) python expressions that answer these questions:"
   ]
  },
  {
   "cell_type": "markdown",
   "id": "cc9e86f6",
   "metadata": {},
   "source": [
    "## A. How many letters are there in 'Supercalifragilisticexpialidocious'?"
   ]
  },
  {
   "cell_type": "code",
   "execution_count": 2,
   "id": "a4cd1d61",
   "metadata": {},
   "outputs": [
    {
     "name": "stdout",
     "output_type": "stream",
     "text": [
      "34\n"
     ]
    }
   ],
   "source": [
    "x = 'Supercalifragilisticexpialidocious'\n",
    "print(len(x))"
   ]
  },
  {
   "cell_type": "markdown",
   "id": "055390ad",
   "metadata": {},
   "source": [
    "## B. Does 'Supercalifragilisticexpialidocious' contain 'ice' as a substring?"
   ]
  },
  {
   "cell_type": "code",
   "execution_count": 4,
   "id": "c18596b7",
   "metadata": {},
   "outputs": [
    {
     "name": "stdout",
     "output_type": "stream",
     "text": [
      "found\n"
     ]
    }
   ],
   "source": [
    "x = 'Supercalifragilisticexpialidocious'\n",
    "y = 'ice'\n",
    "if y in x:\n",
    "   print(\"found\")\n",
    "else: \n",
    "   print(\"not found\")"
   ]
  },
  {
   "cell_type": "markdown",
   "id": "7c4c18c6",
   "metadata": {},
   "source": [
    "## C. Which of the following words is the longest: Supercalifragilisticexpialidocious, Honorificabilitudinitatibus, or Bababadalgharaghtakamminarronnkonn?"
   ]
  },
  {
   "cell_type": "code",
   "execution_count": 5,
   "id": "6031f7cb",
   "metadata": {},
   "outputs": [
    {
     "name": "stdout",
     "output_type": "stream",
     "text": [
      "Supercalifragilisticexpialidocious and Bababadalgharaghtakamminarronnkonn are longest\n"
     ]
    }
   ],
   "source": [
    "s1 = 'Supercalifragilisticexpialidocious'\n",
    "s2 = 'Honorificabilitudinitatibus'\n",
    "s3 = 'Bababadalgharaghtakamminarronnkonn'\n",
    "x = len((s1))\n",
    "y = len((s2))\n",
    "z = len((s3))\n",
    "if (x>y) and (x>z):\n",
    "    print(s1, 'is the longest')\n",
    "elif (y>z) and (y>z):\n",
    "    print(s2, 'is the longest')\n",
    "elif (z>x) and (z>y):\n",
    "    print(s3, 'is the longest')\n",
    "elif (x==y):\n",
    "    print(s1, 'and', s2, 'are longest')\n",
    "elif (x==z):\n",
    "    print(s1, 'and', s3, 'are longest')\n",
    "elif (y==z):\n",
    "    print(s2, 'and', s3, 'are longest')\n",
    "else:\n",
    "    print(\"all are equal and longest\")"
   ]
  },
  {
   "cell_type": "markdown",
   "id": "1b7ccc63",
   "metadata": {},
   "source": [
    "## D. Which composer comes first in the dictionary: 'Berlioz', 'Borodin', 'Brian', 'Bartok', 'Bellini', 'Buxtehude', 'Bernstein'. Which one comes last?"
   ]
  },
  {
   "cell_type": "code",
   "execution_count": 2,
   "id": "23913c98",
   "metadata": {},
   "outputs": [
    {
     "name": "stdout",
     "output_type": "stream",
     "text": [
      "Bartok is the first\n",
      "Buxtehude is the last\n"
     ]
    }
   ],
   "source": [
    "x = ['Berlioz', 'Borodin', 'Brian', 'Bartok', 'Bellini', 'Buxtehude', 'Bernstein']\n",
    "x.sort()\n",
    "print(x[0], 'is the first')\n",
    "print(x[6], 'is the last')"
   ]
  },
  {
   "cell_type": "markdown",
   "id": "01356897",
   "metadata": {},
   "source": [
    "# Q3. Implement function triangleArea(a,b,c) that takes as input the lengths of the 3 sides of a triangle and returns the area of the triangle. By Heron's formula, the area of a triangle with side lengths a, b, and c is s(s - a)(s -b)(s -c), where s = (a+b+c)/2."
   ]
  },
  {
   "cell_type": "code",
   "execution_count": 7,
   "id": "609020fe",
   "metadata": {},
   "outputs": [
    {
     "name": "stdout",
     "output_type": "stream",
     "text": [
      "Enter side a2\n",
      "Enter side b2\n",
      "Enter side c2\n",
      "area of triangle is 1.7320508075688772\n"
     ]
    }
   ],
   "source": [
    "import math\n",
    "a = float(input ('Enter side a'))\n",
    "#print(a)\n",
    "b = float(input ('Enter side b'))\n",
    "#print(b)\n",
    "c = float(input ('Enter side c'))\n",
    "#print(c)\n",
    "s = (a + b + c) // 2\n",
    "area = math.sqrt(s*(s-a)*(s-b)*(s-c))\n",
    "print('area of triangle is',area)"
   ]
  },
  {
   "cell_type": "markdown",
   "id": "c2694c12",
   "metadata": {},
   "source": [
    "# Q4. Write a program in python to separate odd and even integers in separate arrays."
   ]
  },
  {
   "cell_type": "code",
   "execution_count": 17,
   "id": "43320bcd",
   "metadata": {},
   "outputs": [
    {
     "name": "stdout",
     "output_type": "stream",
     "text": [
      "How many elements in list :- 5\n",
      "Please enter the value of 1 Element :- 25\n",
      "Please enter the value of 2 Element :- 47\n",
      "Please enter the value of 3 Element :- 42\n",
      "Please enter the value of 4 Element :- 56\n",
      "Please enter the value of 5 Element :- 32\n",
      "\n",
      " Element in Even List is :  [42, 56, 32]\n",
      "\n",
      " Element in Odd List is :  [25, 47]\n"
     ]
    }
   ],
   "source": [
    "NumList = []\n",
    "Even = []\n",
    "Odd = []\n",
    "\n",
    "Number = int(input('How many elements in list :- '))\n",
    "\n",
    "for a in range(1, Number + 1):\n",
    "    value = int(input('Please enter the value of %d Element :- ' %a))\n",
    "    NumList.append(value)\n",
    "    \n",
    "for b in range(Number):\n",
    "    if(NumList[b] % 2 == 0):\n",
    "        Even.append(NumList[b])\n",
    "    else:\n",
    "        Odd.append(NumList[b])\n",
    "        \n",
    "print('\\n Element in Even List is : ', Even)\n",
    "print('\\n Element in Odd List is : ', Odd)"
   ]
  },
  {
   "cell_type": "markdown",
   "id": "660e609a",
   "metadata": {},
   "source": [
    "#  Q5"
   ]
  },
  {
   "cell_type": "markdown",
   "id": "37e777de",
   "metadata": {},
   "source": [
    "## A.Write a function inside(x,y,x1,y1,x2,y2) that returns True or False depending on whether the point (x,y) lies in the rectangle with lower left corner (x1,y1) and upper right corner (x2,y2)."
   ]
  },
  {
   "cell_type": "code",
   "execution_count": 23,
   "id": "e6ec53e5",
   "metadata": {},
   "outputs": [
    {
     "name": "stdout",
     "output_type": "stream",
     "text": [
      "1\n",
      "1\n",
      "0\n",
      "0\n",
      "2\n",
      "3\n",
      "True\n"
     ]
    }
   ],
   "source": [
    "def FindPoint(x1, y1, x2,\n",
    "              y2, x, y) :\n",
    "    if (x > x1 and x < x2 and\n",
    "        y > y1 and y < y2) :\n",
    "        return True\n",
    "    else :\n",
    "        return False\n",
    " \n",
    "\n",
    " \n",
    "    # bottom-left and top-right\n",
    "    # corners of rectangle.\n",
    "    # use multiple assignment\n",
    "x=int(input())\n",
    "y=int(input())\n",
    "x1=int(input())\n",
    "y1=int(input())\n",
    "x2=int(input())\n",
    "y2=int(input())\n",
    "FindPoint(x1, y1, x2,\n",
    "              y2, x, y) \n",
    "print(FindPoint(x1, y1, x2,\n",
    "              y2, x, y))"
   ]
  },
  {
   "cell_type": "markdown",
   "id": "23b7de27",
   "metadata": {},
   "source": [
    "## B. Use function inside() from part a. to write an expression that tests whetherthe point (1,1) lies in both of the following rectangles: one with lower left corner (0.3, 0.5) and upper right corner (1.1, 0.7) and the other with lower left corner (0.5, 0.2) and upper right corner (1.1, 2)."
   ]
  },
  {
   "cell_type": "code",
   "execution_count": 26,
   "id": "33f460a3",
   "metadata": {},
   "outputs": [
    {
     "name": "stdout",
     "output_type": "stream",
     "text": [
      "1\n",
      "1\n",
      "0.3\n",
      "0.5\n",
      "1.1\n",
      "0.7\n",
      "False\n"
     ]
    }
   ],
   "source": [
    "def FindPoint(x1, y1, x2,\n",
    "              y2, x, y) :\n",
    "    if (x > x1 and x < x2 and\n",
    "        y > y1 and y < y2) :\n",
    "        return True\n",
    "    else :\n",
    "        return False\n",
    "x=float(input())\n",
    "y=float(input())\n",
    "x1=float(input())\n",
    "y1=float(input())\n",
    "x2=float(input())\n",
    "y2=float(input())\n",
    "FindPoint(x1, y1, x2,\n",
    "              y2, x, y) \n",
    "print(FindPoint(x1, y1, x2,\n",
    "              y2, x, y))"
   ]
  },
  {
   "cell_type": "markdown",
   "id": "d53b1b1a",
   "metadata": {},
   "source": [
    "# Q6. Write a function pig() that takes a word (i.e., a string) as input and returns its pigLatin form. Your function should still work if the input word contains upper case characters. Your output should always be lower case however."
   ]
  },
  {
   "cell_type": "code",
   "execution_count": 29,
   "id": "3252adb9",
   "metadata": {},
   "outputs": [
    {
     "name": "stdout",
     "output_type": "stream",
     "text": [
      "appyhay\n",
      "enterway\n"
     ]
    }
   ],
   "source": [
    "def pig(z):\n",
    "    z = str.lower(z);\n",
    "    vowel = \"aeiou\"\n",
    "    \n",
    "    if (z[0] in vowel):\n",
    "        z = z + \"way\"\n",
    "        \n",
    "    else:\n",
    "        temp = z[0]\n",
    "        z = z[1:]\n",
    "        z = z + temp + \"ay\"\n",
    "    print(z);\n",
    "\n",
    "\n",
    "pig(\"happy\")\n",
    "pig(\"Enter\")"
   ]
  },
  {
   "cell_type": "markdown",
   "id": "8468bc98",
   "metadata": {},
   "source": [
    "# Q7. File bloodtype1.txt records blood-types of patients (A, B, AB, O or OO) at a clinic. Write a function bldcount() that reads the file with name name and reports (i.e., prints) how many patients there are in each bloodtype."
   ]
  },
  {
   "cell_type": "code",
   "execution_count": 32,
   "id": "cdd877f3",
   "metadata": {},
   "outputs": [
    {
     "name": "stdout",
     "output_type": "stream",
     "text": [
      "There are  15 patients of blood type A\n",
      "There are  13 patients of blood type AB\n",
      "There are  1 patients of blood type b\n",
      "There are  15 patients of blood type O\n",
      "There are  0 patients of blood type OO\n"
     ]
    }
   ],
   "source": [
    "file = open(\"bloodtype.txt\",\"r\")\n",
    "bloodType = file.read().split(\" \")\n",
    "a = 0\n",
    "ab = 0\n",
    "b = 0\n",
    "o = 0\n",
    "oo = 0\n",
    "\n",
    "for bg in bloodType:\n",
    "    if bg == \"A\":\n",
    "        a += 1\n",
    "    elif bg == \"AB\":\n",
    "        ab += 1\n",
    "    elif bg == \"B\":\n",
    "        b += 1  \n",
    "    elif bg == \"O\":\n",
    "        o += 1\n",
    "    elif bg == \"OO\":\n",
    "        oo += 1 \n",
    "    elif bg == \"\\n\":\n",
    "        break\n",
    "\n",
    "\n",
    "print(\"There are \", a , \"patients of blood type A\" )\n",
    "print(\"There are \", ab , \"patients of blood type AB\" )\n",
    "print(\"There are \", b , \"patients of blood type b\" )\n",
    "print(\"There are \", o , \"patients of blood type O\" )\n",
    "print(\"There are \", oo , \"patients of blood type OO\" )"
   ]
  },
  {
   "cell_type": "markdown",
   "id": "41257dfc",
   "metadata": {},
   "source": [
    "# Q8. Write a function curconv() that takes as input:"
   ]
  },
  {
   "cell_type": "markdown",
   "id": "0ebdbd23",
   "metadata": {},
   "source": [
    "## 1. a currency represented using a string (e.g., 'JPY' for the Japanese Yen or 'EUR' for the Euro)"
   ]
  },
  {
   "cell_type": "markdown",
   "id": "5b176fa7",
   "metadata": {},
   "source": [
    "## 2. an amount and then converts and returns the amount in US dollars."
   ]
  },
  {
   "cell_type": "code",
   "execution_count": 34,
   "id": "97ef0945",
   "metadata": {},
   "outputs": [
    {
     "name": "stdout",
     "output_type": "stream",
     "text": [
      "122.96544\n",
      "1.241401\n"
     ]
    }
   ],
   "source": [
    "def curconv(currency,amount):\n",
    "    file = open(\"currencies.txt\", \"r\")\n",
    "    fileRead = file.readlines()\n",
    "    file.close()\n",
    "    for file in fileRead :\n",
    "        group = file.split()\n",
    "        if currency == group[0]:\n",
    "            rate = float(group[1])\n",
    "            value = amount * rate\n",
    "        \n",
    "    print(value)   \n",
    "        \n",
    "curconv('EUR',100)\n",
    "curconv('JPY',100)"
   ]
  },
  {
   "cell_type": "markdown",
   "id": "df98c63a",
   "metadata": {},
   "source": [
    "# Q9. Each of the following will cause an exception (an error). Identify what type of exception each will cause."
   ]
  },
  {
   "cell_type": "markdown",
   "id": "8af69ef3",
   "metadata": {},
   "source": [
    "Trying to add incompatible variables, as in adding 6 + ‘a’ - TypeError\n",
    "\n",
    "Referring to the 12th item of a list that has only 10 items - IndexError\n",
    "\n",
    "Using a value that is out of range for a function’s input, such as calling math.sqrt(-1.0) - ValueError\n",
    "\n",
    "Using an undeclared variable, such as print(x) when x has not been defined - NameError\n",
    "\n",
    "Trying to open a file that does not exist, such as mistyping the file name or looking in the wrong directory. - FileNotFoundError"
   ]
  },
  {
   "cell_type": "markdown",
   "id": "8918a63b",
   "metadata": {},
   "source": [
    "# Q10. Assume that the string letters is already defined as 'abcdefghijklmnopqrstuvwxyz'. Write a function called frequencies() that takes a string as its only parameter, and returns a list of integers, showing the number of times each character appears in the text. Your function may ignore any characters that are not in letters."
   ]
  },
  {
   "cell_type": "code",
   "execution_count": 37,
   "id": "a5b7ce7d",
   "metadata": {},
   "outputs": [
    {
     "name": "stdout",
     "output_type": "stream",
     "text": [
      "[1, 0, 1, 2, 4, 0, 0, 0, 1, 0, 0, 1, 0, 2, 2, 2, 0, 1, 1, 1, 0, 1, 1, 0, 0, 0]\n",
      "[1, 0, 0, 0, 1, 0, 0, 0, 0, 0, 0, 1, 0, 0, 0, 2, 0, 0, 0, 0, 0, 0, 0, 0, 0, 0]\n"
     ]
    }
   ],
   "source": [
    "def frequencies(z):\n",
    "    letters = \"abcdefghijklmnopqrstuvwxyz\" \n",
    "    #arr = [0,0,0,0,0,0,0,0,0,0,0,0,0,0,0,0,0,0,0,0,0,0,0,0,0,0]\n",
    "    arr = [0] * 26\n",
    "    z = z.lower()\n",
    "    \n",
    "    for a in range(len(z)):\n",
    "        for b in range(len(letters)):\n",
    "            if(z[a] == letters[b]):\n",
    "                arr[b] = arr[b] + 1\n",
    "            b = b + 1\n",
    "        a = a + 1\n",
    "    print(arr)\n",
    "                \n",
    "frequencies(\"Newton discovered apple\")\n",
    "frequencies(\"apple\")"
   ]
  }
 ],
 "metadata": {
  "kernelspec": {
   "display_name": "Python 3 (ipykernel)",
   "language": "python",
   "name": "python3"
  },
  "language_info": {
   "codemirror_mode": {
    "name": "ipython",
    "version": 3
   },
   "file_extension": ".py",
   "mimetype": "text/x-python",
   "name": "python",
   "nbconvert_exporter": "python",
   "pygments_lexer": "ipython3",
   "version": "3.9.12"
  }
 },
 "nbformat": 4,
 "nbformat_minor": 5
}
